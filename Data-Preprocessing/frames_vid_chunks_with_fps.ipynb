{
 "cells": [
  {
   "cell_type": "code",
   "execution_count": 3,
   "id": "b9f22190",
   "metadata": {},
   "outputs": [],
   "source": [
    "#framing of video chunks with different fps\n",
    "#not skipping any frame\n",
    "#setting specified output path"
   ]
  },
  {
   "cell_type": "code",
   "execution_count": 1,
   "id": "85759a57",
   "metadata": {},
   "outputs": [
    {
     "data": {
      "text/plain": [
       "'C:\\\\Users\\\\Laptop Land\\\\AppData\\\\Roaming\\\\Python\\\\Python310\\\\Scripts'"
      ]
     },
     "execution_count": 1,
     "metadata": {},
     "output_type": "execute_result"
    }
   ],
   "source": [
    "pwd"
   ]
  },
  {
   "cell_type": "code",
   "execution_count": 6,
   "id": "84982924",
   "metadata": {},
   "outputs": [
    {
     "name": "stdout",
     "output_type": "stream",
     "text": [
      "D:\\research_code\\video_splitter\n"
     ]
    }
   ],
   "source": [
    "cd D:\\research_code\\video_splitter"
   ]
  },
  {
   "cell_type": "code",
   "execution_count": 8,
   "id": "79adce73",
   "metadata": {},
   "outputs": [
    {
     "name": "stdout",
     "output_type": "stream",
     "text": [
      "Total Extracted Frames : 5507\n"
     ]
    }
   ],
   "source": [
    "# import open cv\n",
    "import cv2\n",
    "import os\n",
    "\n",
    "# load the video using path of video ( my video length is 37 sec )\n",
    "video_path = \"1.mp4\"\n",
    "video = cv2.VideoCapture(video_path)\n",
    "video.set(cv2.CAP_PROP_FPS, 15)\n",
    "\n",
    "success = True\n",
    "count = 1\n",
    "image_id = 1\n",
    "\n",
    "output_path = \"out_1_15fps\"\n",
    "\n",
    "while success:\n",
    "    success , frame = video.read()\n",
    "    \n",
    "    if success == True:\n",
    "        \n",
    "        \n",
    "        # i want every 5th frame from video\n",
    "        # thats why i used following line of code\n",
    "        # i dont want all frames from video\n",
    "        # so we can decide the outpt frames count according to us.\n",
    "        \n",
    "        if count%1 == 0:\n",
    "            # specify the output path and file name\n",
    "            # i used count as a file name\n",
    "            # you can use any\n",
    "            name = str(image_id)+\".jpg\"\n",
    "            image_id += 1\n",
    "            \n",
    "             # save the image\n",
    "            cv2.imwrite(os.path.join(output_path , name), frame)\n",
    "            \n",
    "    \n",
    "        \n",
    "        count += 1\n",
    "    else:\n",
    "        break\n",
    "\n",
    "print(\"Total Extracted Frames :\",image_id)  "
   ]
  },
  {
   "cell_type": "code",
   "execution_count": 9,
   "id": "eb9e7522",
   "metadata": {},
   "outputs": [],
   "source": [
    "#5507 farmes at 5fps, without skipping any frame \n",
    "#5507 farmes at 10fps, without skipping any frame\n",
    "#5507 farmes at 10fps, without skipping any frame\n"
   ]
  }
 ],
 "metadata": {
  "kernelspec": {
   "display_name": "Python 3 (ipykernel)",
   "language": "python",
   "name": "python3"
  },
  "language_info": {
   "codemirror_mode": {
    "name": "ipython",
    "version": 3
   },
   "file_extension": ".py",
   "mimetype": "text/x-python",
   "name": "python",
   "nbconvert_exporter": "python",
   "pygments_lexer": "ipython3",
   "version": "3.10.4"
  }
 },
 "nbformat": 4,
 "nbformat_minor": 5
}
